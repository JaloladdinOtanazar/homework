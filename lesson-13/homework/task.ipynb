{
 "cells": [
  {
   "cell_type": "code",
   "execution_count": 15,
   "metadata": {},
   "outputs": [
    {
     "data": {
      "text/plain": [
       "array([10, 11, 12, 13, 14, 15, 16, 17, 18, 19, 20, 21, 22, 23, 24, 25, 26,\n",
       "       27, 28, 29, 30, 31, 32, 33, 34, 35, 36, 37, 38, 39, 40, 41, 42, 43,\n",
       "       44, 45, 46, 47, 48, 49])"
      ]
     },
     "execution_count": 15,
     "metadata": {},
     "output_type": "execute_result"
    }
   ],
   "source": [
    "import numpy as np\n",
    "# 1st task\n",
    "arr = np.arange(10,50)\n",
    "arr"
   ]
  },
  {
   "cell_type": "code",
   "execution_count": 16,
   "metadata": {},
   "outputs": [
    {
     "data": {
      "text/plain": [
       "array([[0, 1, 2],\n",
       "       [3, 4, 5],\n",
       "       [6, 7, 8]])"
      ]
     },
     "execution_count": 16,
     "metadata": {},
     "output_type": "execute_result"
    }
   ],
   "source": [
    "#2nd taks\n",
    "a3d = np.arange(0,9).reshape(3,3)\n",
    "a3d"
   ]
  },
  {
   "cell_type": "code",
   "execution_count": 17,
   "metadata": {},
   "outputs": [
    {
     "data": {
      "text/plain": [
       "array([[1, 0, 0],\n",
       "       [0, 1, 0],\n",
       "       [0, 0, 1]])"
      ]
     },
     "execution_count": 17,
     "metadata": {},
     "output_type": "execute_result"
    }
   ],
   "source": [
    "#3rd task\n",
    "ai = np.eye(3, dtype=int)\n",
    "ai"
   ]
  },
  {
   "cell_type": "code",
   "execution_count": 4,
   "metadata": {},
   "outputs": [
    {
     "data": {
      "text/plain": [
       "array([[[0.38191228, 0.2689338 , 0.91513463],\n",
       "        [0.77689873, 0.99758352, 0.17256158],\n",
       "        [0.64888472, 0.02905417, 0.1406941 ]],\n",
       "\n",
       "       [[0.7844677 , 0.34435418, 0.58024607],\n",
       "        [0.83061522, 0.56772104, 0.47945719],\n",
       "        [0.80587285, 0.57423186, 0.30491942]],\n",
       "\n",
       "       [[0.11234225, 0.13448661, 0.73361477],\n",
       "        [0.26684086, 0.21421889, 0.5491015 ],\n",
       "        [0.1926192 , 0.17772354, 0.28449179]]])"
      ]
     },
     "execution_count": 4,
     "metadata": {},
     "output_type": "execute_result"
    }
   ],
   "source": [
    "#4th task\n",
    "array = np.random.rand(3,3,3)\n",
    "array\n"
   ]
  },
  {
   "cell_type": "code",
   "execution_count": 5,
   "metadata": {},
   "outputs": [
    {
     "name": "stdout",
     "output_type": "stream",
     "text": [
      "Max value:0.9752714469689009\n",
      "Min value:0.0007335698432414661\n"
     ]
    }
   ],
   "source": [
    "#5th task\n",
    "ar1 = np.random.rand(10,10)\n",
    "print(f\"Max value:{np.max(ar1)}\")\n",
    "print(f\"Min value:{np.min(ar1)}\")\n"
   ]
  },
  {
   "cell_type": "code",
   "execution_count": 6,
   "metadata": {},
   "outputs": [
    {
     "data": {
      "text/plain": [
       "np.float64(0.5494116678605673)"
      ]
     },
     "execution_count": 6,
     "metadata": {},
     "output_type": "execute_result"
    }
   ],
   "source": [
    "#6th task\n",
    "rv  = np.random.rand(30)\n",
    "rvm = np.mean(rv)\n",
    "rvm\n"
   ]
  },
  {
   "cell_type": "code",
   "execution_count": 7,
   "metadata": {},
   "outputs": [
    {
     "data": {
      "text/plain": [
       "array([[0.2942057 , 0.02893207, 0.76058251, 0.78471777, 1.        ],\n",
       "       [0.85415206, 0.40969657, 0.7925769 , 0.40978934, 0.70987418],\n",
       "       [0.        , 0.1563147 , 0.37835262, 0.89499246, 0.97614722],\n",
       "       [0.77766419, 0.83976822, 0.15529475, 0.53150744, 0.90708082],\n",
       "       [0.76350811, 0.83299891, 0.86494244, 0.11068809, 0.22380283]])"
      ]
     },
     "execution_count": 7,
     "metadata": {},
     "output_type": "execute_result"
    }
   ],
   "source": [
    "#7th task\n",
    "m = np.random.rand(5,5)\n",
    "m_normalized = (m - np.min(m))/(np.max(m) - np.min(m))\n",
    "m_normalized"
   ]
  },
  {
   "cell_type": "code",
   "execution_count": 8,
   "metadata": {},
   "outputs": [
    {
     "data": {
      "text/plain": [
       "array([[0.87718389, 0.79075099],\n",
       "       [0.94875579, 1.19988831],\n",
       "       [1.10654705, 0.71899681],\n",
       "       [1.1580653 , 0.70960211],\n",
       "       [0.78391442, 0.44671755]])"
      ]
     },
     "execution_count": 8,
     "metadata": {},
     "output_type": "execute_result"
    }
   ],
   "source": [
    "#8th task\n",
    "m1 = np.random.rand(5,3)\n",
    "m2 = np.random.rand(3,2)\n",
    "m3 = np.dot(m1, m2)\n",
    "m3"
   ]
  },
  {
   "cell_type": "code",
   "execution_count": 9,
   "metadata": {},
   "outputs": [
    {
     "data": {
      "text/plain": [
       "array([[0.64104802, 0.44239267, 0.82715333],\n",
       "       [0.40780099, 0.63753621, 0.52048835],\n",
       "       [0.74270912, 0.61858563, 0.83960404]])"
      ]
     },
     "execution_count": 9,
     "metadata": {},
     "output_type": "execute_result"
    }
   ],
   "source": [
    "#9th task\n",
    "b1 = np.random.rand(3,3)\n",
    "b2 = np.random.rand(3,3)\n",
    "dot = np.dot(b1, b2)\n",
    "dot"
   ]
  },
  {
   "cell_type": "code",
   "execution_count": 10,
   "metadata": {},
   "outputs": [
    {
     "name": "stdout",
     "output_type": "stream",
     "text": [
      "[[0.10227094 0.20334829 0.65813602 0.96916518]\n",
      " [0.79063247 0.85488758 0.50314702 0.43311028]\n",
      " [0.97410599 0.20217198 0.9512826  0.25127859]\n",
      " [0.05466464 0.864468   0.92782477 0.62197306]] \n",
      "\n",
      "[[0.10227094 0.20334829 0.65813602 0.96916518]\n",
      " [0.79063247 0.85488758 0.50314702 0.43311028]\n",
      " [0.97410599 0.20217198 0.9512826  0.25127859]\n",
      " [0.05466464 0.864468   0.92782477 0.62197306]]\n"
     ]
    }
   ],
   "source": [
    "#10th task\n",
    "tr = np.array([\n",
    "       [0.10227094, 0.79063247, 0.97410599, 0.05466464],\n",
    "       [0.20334829, 0.85488758, 0.20217198, 0.864468  ],\n",
    "       [0.65813602, 0.50314702, 0.9512826 , 0.92782477],\n",
    "       [0.96916518, 0.43311028, 0.25127859, 0.62197306]\n",
    "       ])\n",
    "print(tr.T, \"\\n\")\n",
    "print(np.transpose(tr))\n"
   ]
  },
  {
   "cell_type": "code",
   "execution_count": 11,
   "metadata": {},
   "outputs": [
    {
     "name": "stdout",
     "output_type": "stream",
     "text": [
      "its determinanat:-0.015526329003591233\n"
     ]
    }
   ],
   "source": [
    "#11th task\n",
    "matrix = np.array([\n",
    "       [0.69714946, 0.40572431, 0.74433065],\n",
    "       [0.67299475, 0.39653773, 0.81251367],\n",
    "       [0.69933068, 0.62529149, 0.38590647]\n",
    "       ])\n",
    "print(f\"its determinanat:{np.linalg.det(matrix)}\")"
   ]
  },
  {
   "cell_type": "code",
   "execution_count": 28,
   "metadata": {},
   "outputs": [
    {
     "data": {
      "text/plain": [
       "array([[ 3206,  5399,  7391],\n",
       "       [ 3822,  8825, 11009],\n",
       "       [ 3208,  9537, 12801]])"
      ]
     },
     "execution_count": 28,
     "metadata": {},
     "output_type": "execute_result"
    }
   ],
   "source": [
    "#12th task\n",
    "num = np.array([\n",
    "[64, 78, 16, 51],\n",
    "[66, 32, 74, 67],\n",
    "[ 3, 11, 91, 94]])\n",
    "num2 = np.array([\n",
    "[12, 9, 21],\n",
    "[22, 31, 7],\n",
    "[26,77,41],\n",
    "[6, 23, 95]])\n",
    "mat_product = np.dot(num, num2)\n",
    "mat_product"
   ]
  },
  {
   "cell_type": "code",
   "execution_count": 31,
   "metadata": {},
   "outputs": [
    {
     "data": {
      "text/plain": [
       "array([[158],\n",
       "       [105],\n",
       "       [295]], dtype=int32)"
      ]
     },
     "execution_count": 31,
     "metadata": {},
     "output_type": "execute_result"
    }
   ],
   "source": [
    "#13th task\n",
    "mat1 = np.random.randint(1,20, size=(3,3))\n",
    "vec = np.random.randint(1,20, size=(3,1))\n",
    "cal = np.dot(mat1, vec)\n",
    "cal\n"
   ]
  },
  {
   "cell_type": "code",
   "execution_count": 33,
   "metadata": {},
   "outputs": [
    {
     "data": {
      "text/plain": [
       "array([[ 1.55978845],\n",
       "       [ 4.86360553],\n",
       "       [-7.11745636]])"
      ]
     },
     "execution_count": 33,
     "metadata": {},
     "output_type": "execute_result"
    }
   ],
   "source": [
    "#14th task\n",
    "A = np.random.rand(3, 3)\n",
    "b = np.random.rand(3, 1)\n",
    "x = np.linalg.solve(A, b)\n",
    "x"
   ]
  },
  {
   "cell_type": "code",
   "execution_count": 36,
   "metadata": {},
   "outputs": [
    {
     "name": "stdout",
     "output_type": "stream",
     "text": [
      "row-wise sum:[17 31 36 22 31], column-wise sum:[28 24 30 24 31]\n"
     ]
    }
   ],
   "source": [
    "#15th task\n",
    "giv = np.array([\n",
    "       [3, 2, 3, 2, 7],\n",
    "       [6, 7, 1, 9, 8],\n",
    "       [9, 7, 9, 4, 7],\n",
    "       [1, 3, 8, 5, 5],\n",
    "       [9, 5, 9, 4, 4]])\n",
    "column_sum = np.sum(giv, axis=0)\n",
    "row_sum = np.sum(giv, axis=1)\n",
    "print(f\"row-wise sum:{row_sum}, column-wise sum:{column_sum}\")"
   ]
  },
  {
   "cell_type": "code",
   "execution_count": null,
   "metadata": {},
   "outputs": [],
   "source": []
  }
 ],
 "metadata": {
  "kernelspec": {
   "display_name": "Python 3",
   "language": "python",
   "name": "python3"
  },
  "language_info": {
   "codemirror_mode": {
    "name": "ipython",
    "version": 3
   },
   "file_extension": ".py",
   "mimetype": "text/x-python",
   "name": "python",
   "nbconvert_exporter": "python",
   "pygments_lexer": "ipython3",
   "version": "3.12.9"
  }
 },
 "nbformat": 4,
 "nbformat_minor": 2
}
